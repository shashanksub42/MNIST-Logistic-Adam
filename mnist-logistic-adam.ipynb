{
 "cells": [
  {
   "cell_type": "code",
   "execution_count": 1,
   "metadata": {},
   "outputs": [
    {
     "name": "stdout",
     "output_type": "stream",
     "text": [
      "\n",
      "The following command must be run outside of the IPython shell:\n",
      "\n",
      "    $ pip install jovian --upgrade\n",
      "\n",
      "The Python package manager (pip) can only be used from outside of IPython.\n",
      "Please reissue the `pip` command in a separate terminal or command prompt.\n",
      "\n",
      "See the Python documentation for more information on how to install packages:\n",
      "\n",
      "    https://docs.python.org/3/installing/\n"
     ]
    }
   ],
   "source": [
    "pip install jovian --upgrade"
   ]
  },
  {
   "cell_type": "code",
   "execution_count": 4,
   "metadata": {},
   "outputs": [],
   "source": [
    "import numpy as np\n",
    "import torch\n",
    "from torchvision.datasets import MNIST"
   ]
  },
  {
   "cell_type": "code",
   "execution_count": 5,
   "metadata": {},
   "outputs": [
    {
     "name": "stdout",
     "output_type": "stream",
     "text": [
      "Downloading http://yann.lecun.com/exdb/mnist/train-images-idx3-ubyte.gz to /data\\MNIST\\raw\\train-images-idx3-ubyte.gz\n"
     ]
    },
    {
     "name": "stderr",
     "output_type": "stream",
     "text": [
      " 99%|██████████████████████████████████████████████████████████████████▎| 9805824/9912422 [00:13<00:00, 2842206.12it/s]"
     ]
    },
    {
     "name": "stdout",
     "output_type": "stream",
     "text": [
      "Extracting /data\\MNIST\\raw\\train-images-idx3-ubyte.gz\n",
      "Downloading http://yann.lecun.com/exdb/mnist/train-labels-idx1-ubyte.gz to /data\\MNIST\\raw\\train-labels-idx1-ubyte.gz\n"
     ]
    },
    {
     "name": "stderr",
     "output_type": "stream",
     "text": [
      "\n",
      "0it [00:00, ?it/s]\n",
      "  0%|                                                                                        | 0/28881 [00:03<?, ?it/s]\n",
      "32768it [00:03, 10038.32it/s]                                                                                          "
     ]
    },
    {
     "name": "stdout",
     "output_type": "stream",
     "text": [
      "Extracting /data\\MNIST\\raw\\train-labels-idx1-ubyte.gz\n",
      "Downloading http://yann.lecun.com/exdb/mnist/t10k-images-idx3-ubyte.gz to /data\\MNIST\\raw\\t10k-images-idx3-ubyte.gz\n"
     ]
    },
    {
     "name": "stderr",
     "output_type": "stream",
     "text": [
      "\n",
      "0it [00:00, ?it/s]\n",
      "  0%|                                                                                      | 0/1648877 [00:00<?, ?it/s]\n",
      "  2%|█▍                                                                    | 32768/1648877 [00:00<00:05, 291577.73it/s]\n",
      "  6%|████▏                                                                 | 98304/1648877 [00:00<00:04, 325025.32it/s]\n",
      " 12%|████████▌                                                            | 204800/1648877 [00:00<00:03, 408399.46it/s]\n",
      " 22%|███████████████▍                                                     | 368640/1648877 [00:00<00:02, 510613.64it/s]\n",
      " 32%|█████████████████████▉                                               | 524288/1648877 [00:00<00:01, 638950.29it/s]\n",
      " 44%|██████████████████████████████▌                                      | 729088/1648877 [00:00<00:01, 805039.09it/s]\n",
      " 60%|████████████████████████████████████████▌                           | 983040/1648877 [00:00<00:00, 1010144.23it/s]\n",
      " 72%|███████████████████████████████████████████████▉                   | 1179648/1648877 [00:01<00:00, 1166980.17it/s]\n",
      " 83%|███████████████████████████████████████████████████████▉           | 1376256/1648877 [00:01<00:00, 1288185.83it/s]\n",
      " 96%|████████████████████████████████████████████████████████████████▏  | 1581056/1648877 [00:01<00:00, 1443836.63it/s]\n",
      "1654784it [00:01, 1242311.86it/s]                                                                                      "
     ]
    },
    {
     "name": "stdout",
     "output_type": "stream",
     "text": [
      "Extracting /data\\MNIST\\raw\\t10k-images-idx3-ubyte.gz\n",
      "Downloading http://yann.lecun.com/exdb/mnist/t10k-labels-idx1-ubyte.gz to /data\\MNIST\\raw\\t10k-labels-idx1-ubyte.gz\n"
     ]
    },
    {
     "name": "stderr",
     "output_type": "stream",
     "text": [
      "\n",
      "0it [00:00, ?it/s]\n",
      "  0%|                                                                                         | 0/4542 [00:00<?, ?it/s]\n",
      "8192it [00:00, 48533.72it/s]                                                                                           "
     ]
    },
    {
     "name": "stdout",
     "output_type": "stream",
     "text": [
      "Extracting /data\\MNIST\\raw\\t10k-labels-idx1-ubyte.gz\n",
      "Processing...\n",
      "Done!\n"
     ]
    }
   ],
   "source": [
    "dataset = MNIST(root = '/data', download = True)"
   ]
  },
  {
   "cell_type": "code",
   "execution_count": 6,
   "metadata": {},
   "outputs": [
    {
     "data": {
      "text/plain": [
       "60000"
      ]
     },
     "execution_count": 6,
     "metadata": {},
     "output_type": "execute_result"
    },
    {
     "name": "stderr",
     "output_type": "stream",
     "text": [
      "\r",
      "9920512it [00:30, 2842206.12it/s]                                                                                      "
     ]
    }
   ],
   "source": [
    "len(dataset)"
   ]
  },
  {
   "cell_type": "code",
   "execution_count": 7,
   "metadata": {},
   "outputs": [
    {
     "data": {
      "text/plain": [
       "10000"
      ]
     },
     "execution_count": 7,
     "metadata": {},
     "output_type": "execute_result"
    }
   ],
   "source": [
    "test_data = MNIST(root = '/data', train = False)\n",
    "len(test_data)"
   ]
  },
  {
   "cell_type": "code",
   "execution_count": 8,
   "metadata": {},
   "outputs": [],
   "source": [
    "import matplotlib.pyplot as plt\n",
    "%matplotlib inline"
   ]
  },
  {
   "cell_type": "code",
   "execution_count": 9,
   "metadata": {},
   "outputs": [
    {
     "name": "stdout",
     "output_type": "stream",
     "text": [
      "Label: 5\n"
     ]
    },
    {
     "data": {
      "image/png": "[encoded data removed]",
      "text/plain": [
       "<Figure size 432x288 with 1 Axes>"
      ]
     },
     "metadata": {
      "needs_background": "light"
     },
     "output_type": "display_data"
    }
   ],
   "source": [
    "image, label = dataset[0]\n",
    "plt.imshow(image, cmap = 'gray')\n",
    "print('Label:', label)"
   ]
  },
  {
   "cell_type": "code",
   "execution_count": 11,
   "metadata": {},
   "outputs": [
    {
     "name": "stdout",
     "output_type": "stream",
     "text": [
      "Label: 3\n"
     ]
    },
    {
     "data": {
      "image/png": "[encoded data removed]",
      "text/plain": [
       "<Figure size 432x288 with 1 Axes>"
      ]
     },
     "metadata": {
      "needs_background": "light"
     },
     "output_type": "display_data"
    }
   ],
   "source": [
    "image, label = dataset[10]\n",
    "plt.imshow(image, cmap = 'gray')\n",
    "print('Label:', label)"
   ]
  },
  {
   "cell_type": "markdown",
   "metadata": {},
   "source": [
    "## Converting images into tensors"
   ]
  },
  {
   "cell_type": "code",
   "execution_count": 12,
   "metadata": {},
   "outputs": [],
   "source": [
    "#To convert images into tensors\n",
    "import torchvision.transforms as transforms"
   ]
  },
  {
   "cell_type": "code",
   "execution_count": 13,
   "metadata": {},
   "outputs": [],
   "source": [
    "#Dataset after converting into tensors\n",
    "dataset = MNIST(root = '/data',\n",
    "               train = True,\n",
    "               transform = transforms.ToTensor())"
   ]
  },
  {
   "cell_type": "code",
   "execution_count": 16,
   "metadata": {},
   "outputs": [
    {
     "name": "stdout",
     "output_type": "stream",
     "text": [
      "torch.Size([1, 28, 28]) 5\n"
     ]
    }
   ],
   "source": [
    "img_tensor, label = dataset[0]\n",
    "print(img_tensor.shape, label)"
   ]
  },
  {
   "cell_type": "code",
   "execution_count": 17,
   "metadata": {},
   "outputs": [
    {
     "name": "stdout",
     "output_type": "stream",
     "text": [
      "tensor([[[0.0039, 0.6039, 0.9922, 0.3529, 0.0000],\n",
      "         [0.0000, 0.5451, 0.9922, 0.7451, 0.0078],\n",
      "         [0.0000, 0.0431, 0.7451, 0.9922, 0.2745],\n",
      "         [0.0000, 0.0000, 0.1373, 0.9451, 0.8824],\n",
      "         [0.0000, 0.0000, 0.0000, 0.3176, 0.9412]]])\n",
      "tensor(1.) tensor(0.)\n"
     ]
    }
   ],
   "source": [
    "print(img_tensor[:, 10:15, 10:15])\n",
    "print(torch.max(img_tensor), torch.min(img_tensor))"
   ]
  },
  {
   "cell_type": "code",
   "execution_count": 21,
   "metadata": {},
   "outputs": [
    {
     "data": {
      "image/png": "[encoded data removed]",
      "text/plain": [
       "<Figure size 432x288 with 1 Axes>"
      ]
     },
     "metadata": {
      "needs_background": "light"
     },
     "output_type": "display_data"
    }
   ],
   "source": [
    "plt.imshow(img_tensor[0, 10:15, 10:15], cmap = 'gray');"
   ]
  },
  {
   "cell_type": "code",
   "execution_count": 23,
   "metadata": {},
   "outputs": [
    {
     "data": {
      "image/png": "[encoded data removed]",
      "text/plain": [
       "<Figure size 432x288 with 1 Axes>"
      ]
     },
     "metadata": {
      "needs_background": "light"
     },
     "output_type": "display_data"
    }
   ],
   "source": [
    "plt.imshow(img_tensor[0], cmap = 'gray');"
   ]
  },
  {
   "cell_type": "markdown",
   "metadata": {},
   "source": [
    "## Training and validation sets"
   ]
  },
  {
   "cell_type": "code",
   "execution_count": 24,
   "metadata": {},
   "outputs": [],
   "source": [
    "import numpy as np\n",
    "\n",
    "\n",
    "def split_indices(n, val_pct):\n",
    "    \n",
    "    '''\n",
    "    Shuffles the array indices 0, 1, ... , n-1 and seperates out a random portion for\n",
    "    the validation set. np.random.permutation() is used for this purpose.\n",
    "    '''\n",
    "    \n",
    "    #Determine size of validation set\n",
    "    n_val = int(val_pct * n)\n",
    "    \n",
    "    #Create random permutations of 0 to n-1\n",
    "    idxs = np.random.permutation(n)\n",
    "    \n",
    "    #Pick first n_val for validation set\n",
    "    return idxs[n_val:], idxs[:n_val]"
   ]
  },
  {
   "cell_type": "code",
   "execution_count": 25,
   "metadata": {},
   "outputs": [],
   "source": [
    "train_idxs, validation_idxs = split_indices(len(dataset), 0.2)"
   ]
  },
  {
   "cell_type": "code",
   "execution_count": 27,
   "metadata": {},
   "outputs": [
    {
     "name": "stdout",
     "output_type": "stream",
     "text": [
      "48000 12000\n"
     ]
    }
   ],
   "source": [
    "print(len(train_idxs), len(validation_idxs))"
   ]
  },
  {
   "cell_type": "code",
   "execution_count": 28,
   "metadata": {},
   "outputs": [],
   "source": [
    "#Create PyTorch data loaders for each of the training and validation indices\n",
    "#USe SubsetRandomSampler(), which samples elements randomly from a given list of indices\n",
    "from torch.utils.data.sampler import SubsetRandomSampler\n",
    "from torch.utils.data.dataloader import DataLoader"
   ]
  },
  {
   "cell_type": "code",
   "execution_count": 29,
   "metadata": {},
   "outputs": [],
   "source": [
    "batch_size = 100\n",
    "\n",
    "#Train sampler and data loader\n",
    "train_sampler = SubsetRandomSampler(train_idxs)\n",
    "train_loader = DataLoader(dataset, \n",
    "                         batch_size,\n",
    "                         sampler = train_sampler)\n",
    "\n",
    "#Validation sampler and data loader\n",
    "val_sampler = SubsetRandomSampler(validation_idxs)\n",
    "val_loader = DataLoader(dataset,\n",
    "                       batch_size,\n",
    "                       sampler = val_sampler)"
   ]
  },
  {
   "cell_type": "markdown",
   "metadata": {},
   "source": [
    "## Model"
   ]
  },
  {
   "cell_type": "code",
   "execution_count": 30,
   "metadata": {},
   "outputs": [],
   "source": [
    "import torch.nn as nn"
   ]
  },
  {
   "cell_type": "code",
   "execution_count": 31,
   "metadata": {},
   "outputs": [],
   "source": [
    "input_size = 28*28\n",
    "num_classes = 10"
   ]
  },
  {
   "cell_type": "code",
   "execution_count": 34,
   "metadata": {},
   "outputs": [],
   "source": [
    "class MnistModel(nn.Module):\n",
    "    def __init__(self):\n",
    "        super().__init__()\n",
    "        self.linear = nn.Linear(input_size, num_classes)\n",
    "\n",
    "    def forward(self, xb):\n",
    "        xb = xb.reshape(-1, 784)\n",
    "        out = self.linear(xb)\n",
    "        return out\n",
    "    \n",
    "model = MnistModel()"
   ]
  },
  {
   "cell_type": "code",
   "execution_count": 35,
   "metadata": {},
   "outputs": [
    {
     "name": "stdout",
     "output_type": "stream",
     "text": [
      "torch.Size([10, 784]) torch.Size([10])\n"
     ]
    },
    {
     "data": {
      "text/plain": [
       "[Parameter containing:\n",
       " tensor([[ 0.0277, -0.0285, -0.0234,  ..., -0.0057, -0.0068,  0.0133],\n",
       "         [ 0.0192, -0.0285,  0.0018,  ..., -0.0032,  0.0338,  0.0312],\n",
       "         [ 0.0351,  0.0036, -0.0296,  ..., -0.0010,  0.0114,  0.0207],\n",
       "         ...,\n",
       "         [-0.0330,  0.0329, -0.0299,  ..., -0.0054, -0.0304,  0.0237],\n",
       "         [-0.0041,  0.0107,  0.0047,  ...,  0.0133,  0.0075,  0.0129],\n",
       "         [-0.0163, -0.0014,  0.0063,  ...,  0.0204,  0.0226, -0.0175]],\n",
       "        requires_grad=True), Parameter containing:\n",
       " tensor([ 0.0023, -0.0338,  0.0324,  0.0247, -0.0098, -0.0232, -0.0118,  0.0108,\n",
       "         -0.0278,  0.0296], requires_grad=True)]"
      ]
     },
     "execution_count": 35,
     "metadata": {},
     "output_type": "execute_result"
    }
   ],
   "source": [
    "print(model.linear.weight.shape, model.linear.bias.shape)\n",
    "list(model.parameters())"
   ]
  },
  {
   "cell_type": "code",
   "execution_count": 36,
   "metadata": {},
   "outputs": [
    {
     "name": "stdout",
     "output_type": "stream",
     "text": [
      "Output shape: torch.Size([100, 10])\n",
      "Sample outputs:\n",
      " tensor([[ 0.4290,  0.0949, -0.0632,  0.4028,  0.0536, -0.1447, -0.0879, -0.1855,\n",
      "         -0.0655,  0.1335],\n",
      "        [ 0.2832, -0.1295,  0.0617,  0.0972,  0.0937, -0.0015, -0.1367, -0.0895,\n",
      "          0.0239,  0.1228]])\n"
     ]
    }
   ],
   "source": [
    "for images, labels in train_loader:\n",
    "    outputs = model(images)\n",
    "    break\n",
    "    \n",
    "print('Output shape:', outputs.shape)\n",
    "print('Sample outputs:\\n', outputs[:2].data)"
   ]
  },
  {
   "cell_type": "code",
   "execution_count": 39,
   "metadata": {},
   "outputs": [],
   "source": [
    "#Applying the activation function to convert the logit scores to probabilities\n",
    "import torch.nn.functional as F"
   ]
  },
  {
   "cell_type": "code",
   "execution_count": 42,
   "metadata": {},
   "outputs": [
    {
     "name": "stdout",
     "output_type": "stream",
     "text": [
      "Sample probabilities: tensor([[0.1420, 0.1017, 0.0868, 0.1383, 0.0975, 0.0800, 0.0847, 0.0768, 0.0866,\n",
      "         0.1057],\n",
      "        [0.1275, 0.0844, 0.1022, 0.1059, 0.1055, 0.0959, 0.0838, 0.0878, 0.0984,\n",
      "         0.1086]])\n",
      "Sum of probabilities: 1.0\n"
     ]
    }
   ],
   "source": [
    "#Apply softmax to each output row\n",
    "probs = F.softmax(outputs, dim=1)\n",
    "\n",
    "print('Sample probabilities:', probs[:2].data)\n",
    "print('Sum of probabilities:', torch.sum(probs[0]).item())"
   ]
  },
  {
   "cell_type": "code",
   "execution_count": 46,
   "metadata": {},
   "outputs": [
    {
     "name": "stdout",
     "output_type": "stream",
     "text": [
      "tensor([0, 0, 3, 0, 0, 2, 0, 0, 5, 8, 2, 5, 2, 1, 3, 2, 3, 2, 6, 2, 0, 8, 3, 5,\n",
      "        3, 2, 2, 0, 0, 0, 2, 0, 3, 6, 5, 3, 6, 3, 3, 2, 2, 2, 6, 2, 0, 9, 4, 2,\n",
      "        2, 2, 2, 3, 3, 3, 3, 8, 8, 3, 2, 0, 4, 2, 3, 2, 9, 2, 2, 6, 3, 3, 2, 3,\n",
      "        3, 2, 3, 3, 2, 8, 6, 8, 3, 3, 3, 0, 2, 3, 4, 0, 8, 8, 3, 4, 2, 2, 3, 2,\n",
      "        2, 3, 2, 3])\n",
      "tensor([0.1420, 0.1275, 0.1398, 0.1447, 0.1527, 0.1347, 0.1204, 0.1285, 0.1297,\n",
      "        0.1234, 0.1315, 0.1167, 0.1232, 0.1259, 0.1291, 0.1158, 0.1262, 0.1375,\n",
      "        0.1277, 0.1394, 0.1286, 0.1212, 0.1322, 0.1174, 0.1258, 0.1847, 0.1322,\n",
      "        0.1387, 0.1308, 0.1307, 0.1232, 0.1446, 0.1275, 0.1371, 0.1228, 0.1307,\n",
      "        0.1211, 0.1351, 0.1302, 0.1278, 0.1376, 0.1193, 0.1214, 0.1124, 0.1335,\n",
      "        0.1303, 0.1152, 0.1247, 0.1324, 0.1364, 0.1328, 0.1382, 0.1228, 0.1356,\n",
      "        0.1129, 0.1259, 0.1335, 0.1205, 0.1282, 0.1169, 0.1171, 0.1360, 0.1111,\n",
      "        0.1229, 0.1126, 0.1438, 0.1407, 0.1152, 0.1368, 0.1292, 0.1213, 0.1309,\n",
      "        0.1198, 0.1338, 0.1204, 0.1291, 0.1182, 0.1268, 0.1411, 0.1237, 0.1204,\n",
      "        0.1340, 0.1399, 0.1238, 0.1199, 0.1414, 0.1133, 0.1289, 0.1270, 0.1245,\n",
      "        0.1488, 0.1279, 0.1266, 0.1277, 0.1327, 0.1266, 0.1111, 0.1183, 0.1376,\n",
      "        0.1230], grad_fn=<MaxBackward0>)\n"
     ]
    }
   ],
   "source": [
    "max_probs, preds = torch.max(probs, dim=1)\n",
    "print(preds)\n",
    "print(max_probs)"
   ]
  },
  {
   "cell_type": "code",
   "execution_count": 48,
   "metadata": {},
   "outputs": [
    {
     "data": {
      "text/plain": [
       "tensor([0, 2, 9, 4, 4, 7, 5, 0, 4, 9, 1, 5, 2, 5, 1, 3, 9, 2, 5, 1, 0, 8, 1, 1,\n",
       "        3, 2, 6, 4, 0, 2, 1, 2, 5, 6, 5, 3, 0, 5, 4, 2, 6, 3, 7, 3, 0, 1, 4, 9,\n",
       "        1, 2, 1, 7, 3, 9, 0, 3, 2, 9, 2, 3, 9, 5, 3, 6, 3, 9, 2, 4, 8, 9, 7, 4,\n",
       "        9, 2, 7, 9, 1, 8, 6, 8, 0, 7, 5, 6, 9, 8, 7, 6, 7, 5, 9, 8, 7, 7, 0, 4,\n",
       "        0, 3, 7, 8])"
      ]
     },
     "execution_count": 48,
     "metadata": {},
     "output_type": "execute_result"
    }
   ],
   "source": [
    "labels"
   ]
  },
  {
   "cell_type": "markdown",
   "metadata": {},
   "source": [
    "Predicted labels do not match with actual labels. This is because we started with randomly initialized weights and biases. We need to train the model and adjust the weights"
   ]
  },
  {
   "cell_type": "markdown",
   "metadata": {},
   "source": [
    "## Evaluation metric and loss function"
   ]
  },
  {
   "cell_type": "code",
   "execution_count": 49,
   "metadata": {},
   "outputs": [],
   "source": [
    "def accuracy(preds, target):\n",
    "    return torch.sum(preds == target).item() / len(preds)"
   ]
  },
  {
   "cell_type": "code",
   "execution_count": 50,
   "metadata": {},
   "outputs": [
    {
     "data": {
      "text/plain": [
       "0.04"
      ]
     },
     "execution_count": 50,
     "metadata": {},
     "output_type": "execute_result"
    }
   ],
   "source": [
    "accuracy(preds, label)"
   ]
  },
  {
   "cell_type": "markdown",
   "metadata": {},
   "source": [
    "### Cross Entropy "
   ]
  },
  {
   "cell_type": "code",
   "execution_count": 51,
   "metadata": {},
   "outputs": [],
   "source": [
    "loss_fn = F.cross_entropy"
   ]
  },
  {
   "cell_type": "code",
   "execution_count": 55,
   "metadata": {},
   "outputs": [
    {
     "name": "stdout",
     "output_type": "stream",
     "text": [
      "tensor(2.2940, grad_fn=<NllLossBackward>)\n"
     ]
    }
   ],
   "source": [
    "#Loss for the current batch of data\n",
    "loss = loss_fn(outputs, labels)\n",
    "print(loss)"
   ]
  },
  {
   "cell_type": "markdown",
   "metadata": {},
   "source": [
    "### Optimizer"
   ]
  },
  {
   "cell_type": "code",
   "execution_count": 57,
   "metadata": {},
   "outputs": [],
   "source": [
    "lr = 0.0001\n",
    "optimizer = torch.optim.Adam(model.parameters(), lr = lr)"
   ]
  },
  {
   "cell_type": "code",
   "execution_count": 58,
   "metadata": {},
   "outputs": [],
   "source": [
    "def loss_batch(model, loss_fn, xb, yb, opt = None, metric = None):\n",
    "    #Calculate loss\n",
    "    preds = model(xb)\n",
    "    loss = loss_fn(preds, yb)\n",
    "    \n",
    "    if opt is not None:\n",
    "        #Compute gradients\n",
    "        loss.backward()\n",
    "        \n",
    "        #Update parameters\n",
    "        opt.step()\n",
    "        \n",
    "        #Reset gradients\n",
    "        opt.zero_grad()\n",
    "        \n",
    "    metric_res = None\n",
    "    if metric is not None:\n",
    "        metric_res = metric(preds, yb)\n",
    "        \n",
    "    return loss.item(), len(xb), metric_res"
   ]
  },
  {
   "cell_type": "code",
   "execution_count": 60,
   "metadata": {
    "collapsed": true
   },
   "outputs": [],
   "source": [
    "def accuracy(outputs, labels):\n",
    "    _, preds = torch.max(outputs, dim=1)\n",
    "    return torch.sum(preds == labels).item() / len(preds)"
   ]
  },
  {
   "cell_type": "code",
   "execution_count": 70,
   "metadata": {},
   "outputs": [],
   "source": [
    "def evaluate(model, loss_fn, valid_dl, metric = None):\n",
    "    with torch.no_grad():\n",
    "        #Pass each batch through the model\n",
    "        results = [loss_batch(model, loss_fn, xb, yb, metric=accuracy) for xb, yb in valid_dl]\n",
    "        \n",
    "        #Seperate losses, counts and metrics\n",
    "        loss, nums, metrics = zip(*results)\n",
    "        \n",
    "        #Total size of the dataset\n",
    "        total = np.sum(nums)\n",
    "        \n",
    "        #Avg loss across all batches\n",
    "        avg_loss = np.sum(np.multiply(loss, nums)) / total\n",
    "        \n",
    "        avg_metric = None\n",
    "        if metric is not None:\n",
    "            avg_metric = np.sum(np.multiply(metrics, nums)) / total\n",
    "        \n",
    "    return avg_loss, total, avg_metric"
   ]
  },
  {
   "cell_type": "code",
   "execution_count": 71,
   "metadata": {},
   "outputs": [
    {
     "name": "stdout",
     "output_type": "stream",
     "text": [
      "2.30521533091863 0.14716666666666667\n"
     ]
    }
   ],
   "source": [
    "val_loss, total, val_metric = evaluate(model, loss_fn, val_loader, metric = accuracy)\n",
    "print(val_loss, val_metric)"
   ]
  },
  {
   "cell_type": "code",
   "execution_count": 75,
   "metadata": {},
   "outputs": [],
   "source": [
    "def fit(epochs, model, loss_fn, opt, train_dl, val_dl, metric = None):\n",
    "    for epoch in range(epochs):\n",
    "        #Training\n",
    "        for xb, yb in train_dl:\n",
    "            loss,_,_ = loss_batch(model, loss_fn, xb, yb, opt = optimizer, metric = accuracy)\n",
    "            \n",
    "        #Evaluation\n",
    "        result = evaluate(model, loss_fn, val_dl, metric)\n",
    "        val_loss, total, val_metric = result\n",
    "        \n",
    "        #Print progress of training\n",
    "        if metric is None:\n",
    "            print('Epoch [{}/{}], Loss: {:.4f}'.format(epoch+1, epochs, val_loss))\n",
    "        else:\n",
    "            print('Epoch [{}/{}], Loss: {:.4f}, Accuracy: {:.2f}'.format(epoch+1, epochs, val_loss, val_metric))"
   ]
  },
  {
   "cell_type": "code",
   "execution_count": 73,
   "metadata": {},
   "outputs": [],
   "source": [
    "#Redefine model and optimizer\n",
    "model = MnistModel()\n",
    "optimizer = torch.optim.Adam(model.parameters(), lr = lr)"
   ]
  },
  {
   "cell_type": "code",
   "execution_count": 78,
   "metadata": {},
   "outputs": [
    {
     "name": "stdout",
     "output_type": "stream",
     "text": [
      "Epoch [1/10], Loss: 0.4429, Accuracy: 0.89\n",
      "Epoch [2/10], Loss: 0.4200, Accuracy: 0.89\n",
      "Epoch [3/10], Loss: 0.4022, Accuracy: 0.90\n",
      "Epoch [4/10], Loss: 0.3879, Accuracy: 0.90\n",
      "Epoch [5/10], Loss: 0.3762, Accuracy: 0.90\n",
      "Epoch [6/10], Loss: 0.3665, Accuracy: 0.90\n",
      "Epoch [7/10], Loss: 0.3582, Accuracy: 0.90\n",
      "Epoch [8/10], Loss: 0.3515, Accuracy: 0.90\n",
      "Epoch [9/10], Loss: 0.3455, Accuracy: 0.91\n",
      "Epoch [10/10], Loss: 0.3402, Accuracy: 0.91\n"
     ]
    }
   ],
   "source": [
    "fit(10, model, F.cross_entropy, optimizer, train_loader, val_loader, metric = accuracy)"
   ]
  },
  {
   "cell_type": "code",
   "execution_count": 83,
   "metadata": {},
   "outputs": [
    {
     "data": {
      "image/png": "[encoded data removed]",
      "text/plain": [
       "<Figure size 432x288 with 1 Axes>"
      ]
     },
     "metadata": {
      "needs_background": "light"
     },
     "output_type": "display_data"
    }
   ],
   "source": [
    "acc = [0.89, 0.89, 0.90, 0.90, 0.90, 0.90, 0.90, 0.90, 0.91, 0.91]\n",
    "plt.plot(acc, '-x')\n",
    "plt.xlabel('epoch')\n",
    "plt.ylabel('accuracies')\n",
    "plt.title('Accuracy vs no of epochs')\n",
    "plt.show()"
   ]
  },
  {
   "cell_type": "code",
   "execution_count": 84,
   "metadata": {},
   "outputs": [
    {
     "name": "stdout",
     "output_type": "stream",
     "text": [
      "Collecting jovian\n",
      "  Downloading https://files.pythonhosted.org/packages/53/b8/07dbaf8e226aabf7909f099bd696dddf25327329dbb22e00691ba9df84cc/jovian-0.1.62.tar.gz\n",
      "Requirement already satisfied, skipping upgrade: requests in e:\\anaconda\\lib\\site-packages (from jovian) (2.21.0)\n",
      "Collecting uuid (from jovian)\n",
      "  Downloading https://files.pythonhosted.org/packages/ce/63/f42f5aa951ebf2c8dac81f77a8edcc1c218640a2a35a03b9ff2d4aa64c3d/uuid-1.30.tar.gz\n",
      "Requirement already satisfied, skipping upgrade: urllib3<1.25,>=1.21.1 in e:\\anaconda\\lib\\site-packages (from requests->jovian) (1.24.1)\n",
      "Requirement already satisfied, skipping upgrade: certifi>=2017.4.17 in e:\\anaconda\\lib\\site-packages (from requests->jovian) (2018.11.29)\n",
      "Requirement already satisfied, skipping upgrade: idna<2.9,>=2.5 in e:\\anaconda\\lib\\site-packages (from requests->jovian) (2.8)\n",
      "Requirement already satisfied, skipping upgrade: chardet<3.1.0,>=3.0.2 in e:\\anaconda\\lib\\site-packages (from requests->jovian) (3.0.4)\n",
      "Building wheels for collected packages: jovian, uuid\n",
      "  Running setup.py bdist_wheel for jovian: started\n",
      "  Running setup.py bdist_wheel for jovian: finished with status 'done'\n",
      "  Stored in directory: C:\\Users\\shash\\AppData\\Local\\pip\\Cache\\wheels\\67\\9f\\b0\\b841f81da3f8c9919ed232fa14bba397c5c38fa8df5d125d8a\n",
      "  Running setup.py bdist_wheel for uuid: started\n",
      "  Running setup.py bdist_wheel for uuid: finished with status 'done'\n",
      "  Stored in directory: C:\\Users\\shash\\AppData\\Local\\pip\\Cache\\wheels\\2a\\80\\9b\\015026567c29fdffe31d91edbe7ba1b17728db79194fca1f21\n",
      "Successfully built jovian uuid\n",
      "Installing collected packages: uuid, jovian\n",
      "Successfully installed jovian-0.1.62 uuid-1.30\n"
     ]
    }
   ],
   "source": [
    "!pip install jovian --upgrade"
   ]
  },
  {
   "cell_type": "code",
   "execution_count": 85,
   "metadata": {},
   "outputs": [
    {
     "data": {
      "text/plain": [
       "0.0001"
      ]
     },
     "execution_count": 85,
     "metadata": {},
     "output_type": "execute_result"
    }
   ],
   "source": [
    "lr"
   ]
  },
  {
   "cell_type": "code",
   "execution_count": 87,
   "metadata": {},
   "outputs": [
    {
     "data": {
      "application/javascript": [
       "if (window.IPython && IPython.notebook.kernel) IPython.notebook.kernel.execute('jovian.utils.jupyter.get_notebook_name_saved = lambda: \"' + IPython.notebook.notebook_name + '\"')"
      ],
      "text/plain": [
       "<IPython.core.display.Javascript object>"
      ]
     },
     "metadata": {},
     "output_type": "display_data"
    },
    {
     "name": "stdout",
     "output_type": "stream",
     "text": [
      "[jovian] Please enter your API key (from https://jvn.io ):\n",
      "········\n",
      "[jovian] Hypermaters logged.\n"
     ]
    }
   ],
   "source": [
    "import jovian\n",
    "\n",
    "jovian.log_hyperparams({\n",
    "    'opt':'Adam',\n",
    "    'lr':'0.0001',\n",
    "    'batch_size':100,\n",
    "    'arch':'logistic-regression',\n",
    "    'epochs':10\n",
    "})"
   ]
  },
  {
   "cell_type": "code",
   "execution_count": 88,
   "metadata": {},
   "outputs": [
    {
     "name": "stdout",
     "output_type": "stream",
     "text": [
      "[jovian] Metrics logged.\n"
     ]
    }
   ],
   "source": [
    "jovian.log_metrics({\n",
    "    'val_loss':0.3402,\n",
    "    'val_acc':0.91\n",
    "})"
   ]
  },
  {
   "cell_type": "code",
   "execution_count": 90,
   "metadata": {},
   "outputs": [],
   "source": [
    "#Define test dataset\n",
    "test = MNIST(root = '/data', train = False, transform=transforms.ToTensor())"
   ]
  },
  {
   "cell_type": "code",
   "execution_count": 92,
   "metadata": {},
   "outputs": [
    {
     "name": "stdout",
     "output_type": "stream",
     "text": [
      "Shape: torch.Size([1, 28, 28])\n",
      "Label: 1\n"
     ]
    },
    {
     "data": {
      "image/png": "[encoded data removed]",
      "text/plain": [
       "<Figure size 432x288 with 1 Axes>"
      ]
     },
     "metadata": {
      "needs_background": "light"
     },
     "output_type": "display_data"
    }
   ],
   "source": [
    "img, label = test[5]\n",
    "plt.imshow(img[0], cmap='gray')\n",
    "print('Shape:', img.shape)\n",
    "print('Label:', label)"
   ]
  },
  {
   "cell_type": "code",
   "execution_count": 95,
   "metadata": {},
   "outputs": [
    {
     "data": {
      "text/plain": [
       "torch.Size([1, 1, 28, 28])"
      ]
     },
     "execution_count": 95,
     "metadata": {},
     "output_type": "execute_result"
    }
   ],
   "source": [
    "img.unsqueeze(0).shape"
   ]
  },
  {
   "cell_type": "code",
   "execution_count": 96,
   "metadata": {},
   "outputs": [],
   "source": [
    "def predict_image(img, model):\n",
    "    xb = img.unsqueeze(0)\n",
    "    yb = model(xb)\n",
    "    _, preds = torch.max(yb, dim=1)\n",
    "    return preds[0].item()"
   ]
  },
  {
   "cell_type": "code",
   "execution_count": 97,
   "metadata": {},
   "outputs": [
    {
     "name": "stdout",
     "output_type": "stream",
     "text": [
      "Label: 0 Prediction: 0\n"
     ]
    },
    {
     "data": {
      "image/png": "[encoded data removed]",
      "text/plain": [
       "<Figure size 432x288 with 1 Axes>"
      ]
     },
     "metadata": {
      "needs_background": "light"
     },
     "output_type": "display_data"
    }
   ],
   "source": [
    "img, label = test[10]\n",
    "plt.imshow(img[0], cmap='gray')\n",
    "print('Label:', label, 'Prediction:', predict_image(img, model))"
   ]
  },
  {
   "cell_type": "code",
   "execution_count": 98,
   "metadata": {},
   "outputs": [
    {
     "name": "stdout",
     "output_type": "stream",
     "text": [
      "Label: 1 Prediction: 1\n"
     ]
    },
    {
     "data": {
      "image/png": "[encoded data removed]",
      "text/plain": [
       "<Figure size 432x288 with 1 Axes>"
      ]
     },
     "metadata": {
      "needs_background": "light"
     },
     "output_type": "display_data"
    }
   ],
   "source": [
    "img, label = test[190]\n",
    "plt.imshow(img[0], cmap='gray')\n",
    "print('Label:', label, 'Prediction:', predict_image(img, model))"
   ]
  },
  {
   "cell_type": "code",
   "execution_count": 99,
   "metadata": {},
   "outputs": [
    {
     "name": "stdout",
     "output_type": "stream",
     "text": [
      "Label: 0 Prediction: 0\n"
     ]
    },
    {
     "data": {
      "image/png": "[encoded data removed]",
      "text/plain": [
       "<Figure size 432x288 with 1 Axes>"
      ]
     },
     "metadata": {
      "needs_background": "light"
     },
     "output_type": "display_data"
    }
   ],
   "source": [
    "img, label = test[297]\n",
    "plt.imshow(img[0], cmap='gray')\n",
    "print('Label:', label, 'Prediction:', predict_image(img, model))"
   ]
  },
  {
   "cell_type": "code",
   "execution_count": 102,
   "metadata": {},
   "outputs": [
    {
     "name": "stdout",
     "output_type": "stream",
     "text": [
      "Label: 5 Prediction: 5\n"
     ]
    },
    {
     "data": {
      "image/png": "[encoded data removed]",
      "text/plain": [
       "<Figure size 432x288 with 1 Axes>"
      ]
     },
     "metadata": {
      "needs_background": "light"
     },
     "output_type": "display_data"
    }
   ],
   "source": [
    "img, label = test[9998]\n",
    "plt.imshow(img[0], cmap='gray')\n",
    "print('Label:', label, 'Prediction:', predict_image(img, model))"
   ]
  },
  {
   "cell_type": "markdown",
   "metadata": {},
   "source": [
    "Check overall model accuracy and loss on test set"
   ]
  },
  {
   "cell_type": "code",
   "execution_count": 103,
   "metadata": {},
   "outputs": [
    {
     "name": "stdout",
     "output_type": "stream",
     "text": [
      "Loss: 0.3206, Accuracy: 0.91\n"
     ]
    }
   ],
   "source": [
    "test_loader = DataLoader(test, batch_size=200)\n",
    "\n",
    "test_loss, total, test_metric = evaluate(model, F.cross_entropy, test_loader, metric = accuracy)\n",
    "print('Loss: {:.4f}, Accuracy: {:.2f}'.format(test_loss, test_metric))"
   ]
  },
  {
   "cell_type": "code",
   "execution_count": 104,
   "metadata": {},
   "outputs": [
    {
     "name": "stdout",
     "output_type": "stream",
     "text": [
      "[jovian] Metrics logged.\n"
     ]
    }
   ],
   "source": [
    "jovian.log_metrics({\n",
    "    'test_loss':0.3206,\n",
    "    'test_acc':0.91\n",
    "})"
   ]
  },
  {
   "cell_type": "markdown",
   "metadata": {},
   "source": [
    "## Saving and loading the model"
   ]
  },
  {
   "cell_type": "code",
   "execution_count": 105,
   "metadata": {},
   "outputs": [],
   "source": [
    "torch.save(model.state_dict(), 'mnist-logistic-adam.pth')"
   ]
  },
  {
   "cell_type": "code",
   "execution_count": 106,
   "metadata": {},
   "outputs": [
    {
     "data": {
      "text/plain": [
       "OrderedDict([('linear.weight',\n",
       "              tensor([[-0.0233,  0.0327, -0.0110,  ...,  0.0270, -0.0308,  0.0257],\n",
       "                      [ 0.0207,  0.0010,  0.0240,  ...,  0.0158,  0.0227, -0.0304],\n",
       "                      [-0.0076,  0.0144, -0.0279,  ..., -0.0212, -0.0275, -0.0070],\n",
       "                      ...,\n",
       "                      [-0.0113, -0.0162,  0.0027,  ...,  0.0112, -0.0334,  0.0353],\n",
       "                      [-0.0269,  0.0125,  0.0082,  ...,  0.0114,  0.0047,  0.0018],\n",
       "                      [-0.0099, -0.0049,  0.0233,  ..., -0.0201, -0.0279, -0.0109]])),\n",
       "             ('linear.bias',\n",
       "              tensor([-0.1005,  0.2058, -0.0453, -0.1066,  0.0892,  0.1536, -0.0183,  0.1053,\n",
       "                      -0.2485, -0.0549]))])"
      ]
     },
     "execution_count": 106,
     "metadata": {},
     "output_type": "execute_result"
    }
   ],
   "source": [
    "model.state_dict()"
   ]
  },
  {
   "cell_type": "code",
   "execution_count": 107,
   "metadata": {},
   "outputs": [
    {
     "data": {
      "text/plain": [
       "OrderedDict([('linear.weight',\n",
       "              tensor([[-0.0233,  0.0327, -0.0110,  ...,  0.0270, -0.0308,  0.0257],\n",
       "                      [ 0.0207,  0.0010,  0.0240,  ...,  0.0158,  0.0227, -0.0304],\n",
       "                      [-0.0076,  0.0144, -0.0279,  ..., -0.0212, -0.0275, -0.0070],\n",
       "                      ...,\n",
       "                      [-0.0113, -0.0162,  0.0027,  ...,  0.0112, -0.0334,  0.0353],\n",
       "                      [-0.0269,  0.0125,  0.0082,  ...,  0.0114,  0.0047,  0.0018],\n",
       "                      [-0.0099, -0.0049,  0.0233,  ..., -0.0201, -0.0279, -0.0109]])),\n",
       "             ('linear.bias',\n",
       "              tensor([-0.1005,  0.2058, -0.0453, -0.1066,  0.0892,  0.1536, -0.0183,  0.1053,\n",
       "                      -0.2485, -0.0549]))])"
      ]
     },
     "execution_count": 107,
     "metadata": {},
     "output_type": "execute_result"
    }
   ],
   "source": [
    "model2 = MnistModel()\n",
    "model2.load_state_dict(torch.load('mnist-logistic-adam.pth'))\n",
    "model2.state_dict()"
   ]
  },
  {
   "cell_type": "code",
   "execution_count": 108,
   "metadata": {},
   "outputs": [
    {
     "name": "stdout",
     "output_type": "stream",
     "text": [
      "Loss: 0.3206, Accuracy: 0.91\n"
     ]
    }
   ],
   "source": [
    "test_loss, total, test_metric = evaluate(model2, F.cross_entropy, test_loader, metric = accuracy)\n",
    "print('Loss: {:.4f}, Accuracy: {:.2f}'.format(test_loss, test_metric))"
   ]
  },
  {
   "cell_type": "markdown",
   "metadata": {},
   "source": [
    "## Commit and upload the notebook"
   ]
  },
  {
   "cell_type": "code",
   "execution_count": 109,
   "metadata": {},
   "outputs": [
    {
     "name": "stdout",
     "output_type": "stream",
     "text": [
      "[jovian] Saving notebook..\n"
     ]
    },
    {
     "data": {
      "application/javascript": [
       "window.require && require([\"base/js/namespace\"],function(Jupyter){Jupyter.notebook.save_checkpoint()})"
      ],
      "text/plain": [
       "<IPython.core.display.Javascript object>"
      ]
     },
     "metadata": {},
     "output_type": "display_data"
    },
    {
     "name": "stdout",
     "output_type": "stream",
     "text": [
      "[jovian] Creating a new notebook on https://jvn.io\n",
      "[jovian] Uploading notebook..\n",
      "[jovian] Capturing environment..\n",
      "[jovian] Uploading artifacts..\n",
      "[jovian] Recording metrics & hyperparameters..\n",
      "[jovian] Committed successfully! https://jvn.io/shash2595/3163378d2f094969be83b37d4d961374\n"
     ]
    }
   ],
   "source": [
    "jovian.commit(artifacts=['mnist-logistic-adam.pth'])"
   ]
  },
  {
   "cell_type": "code",
   "execution_count": null,
   "metadata": {},
   "outputs": [],
   "source": []
  }
 ],
 "metadata": {
  "kernelspec": {
   "display_name": "Python 3",
   "language": "python",
   "name": "python3"
  },
  "language_info": {
   "codemirror_mode": {
    "name": "ipython",
    "version": 3
   },
   "file_extension": ".py",
   "mimetype": "text/x-python",
   "name": "python",
   "nbconvert_exporter": "python",
   "pygments_lexer": "ipython3",
   "version": "3.7.1"
  }
 },
 "nbformat": 4,
 "nbformat_minor": 2
}
